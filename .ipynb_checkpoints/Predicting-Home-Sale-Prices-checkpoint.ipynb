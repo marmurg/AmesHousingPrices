{
 "cells": [
  {
   "cell_type": "markdown",
   "metadata": {},
   "source": [
    "\n",
    "\n",
    "\n",
    "## Regression Analysis with the Ames Housing Data\n",
    "\n",
    " "
   ]
  },
  {
   "cell_type": "code",
   "execution_count": 2,
   "metadata": {
    "collapsed": true
   },
   "outputs": [],
   "source": [
    "from sklearn.linear_model import Ridge, Lasso, ElasticNet, LinearRegression, RidgeCV, LassoCV, ElasticNetCV\n",
    "from sklearn.model_selection import cross_val_score\n",
    "from sklearn.preprocessing import StandardScaler\n",
    "from sklearn.model_selection import train_test_split\n",
    "from sklearn.model_selection import GridSearchCV\n",
    "from sklearn.linear_model import LogisticRegression, LogisticRegressionCV\n",
    "import numpy as np\n",
    "import scipy.stats as stats\n",
    "import seaborn as sns\n",
    "import matplotlib.pyplot as plt\n",
    "import pandas as pd\n",
    "import scipy.stats as sp\n",
    "from sklearn.preprocessing import scale\n",
    "\n",
    "sns.set_style('dark')\n",
    "plt.style.use('fivethirtyeight')\n",
    "\n",
    "%config InlineBackend.figure_format = 'retina'\n",
    "%matplotlib inline"
   ]
  },
  {
   "cell_type": "code",
   "execution_count": 3,
   "metadata": {
    "collapsed": true
   },
   "outputs": [],
   "source": [
    "# Load the data\n",
    "house = pd.read_csv('./housing.csv')"
   ]
  },
  {
   "cell_type": "code",
   "execution_count": 5,
   "metadata": {},
   "outputs": [
    {
     "name": "stdout",
     "output_type": "stream",
     "text": [
      "<class 'pandas.core.frame.DataFrame'>\n",
      "RangeIndex: 1460 entries, 0 to 1459\n",
      "Data columns (total 81 columns):\n",
      "Id               1460 non-null int64\n",
      "MSSubClass       1460 non-null int64\n",
      "MSZoning         1460 non-null object\n",
      "LotFrontage      1201 non-null float64\n",
      "LotArea          1460 non-null int64\n",
      "Street           1460 non-null object\n",
      "Alley            91 non-null object\n",
      "LotShape         1460 non-null object\n",
      "LandContour      1460 non-null object\n",
      "Utilities        1460 non-null object\n",
      "LotConfig        1460 non-null object\n",
      "LandSlope        1460 non-null object\n",
      "Neighborhood     1460 non-null object\n",
      "Condition1       1460 non-null object\n",
      "Condition2       1460 non-null object\n",
      "BldgType         1460 non-null object\n",
      "HouseStyle       1460 non-null object\n",
      "OverallQual      1460 non-null int64\n",
      "OverallCond      1460 non-null int64\n",
      "YearBuilt        1460 non-null int64\n",
      "YearRemodAdd     1460 non-null int64\n",
      "RoofStyle        1460 non-null object\n",
      "RoofMatl         1460 non-null object\n",
      "Exterior1st      1460 non-null object\n",
      "Exterior2nd      1460 non-null object\n",
      "MasVnrType       1452 non-null object\n",
      "MasVnrArea       1452 non-null float64\n",
      "ExterQual        1460 non-null object\n",
      "ExterCond        1460 non-null object\n",
      "Foundation       1460 non-null object\n",
      "BsmtQual         1423 non-null object\n",
      "BsmtCond         1423 non-null object\n",
      "BsmtExposure     1422 non-null object\n",
      "BsmtFinType1     1423 non-null object\n",
      "BsmtFinSF1       1460 non-null int64\n",
      "BsmtFinType2     1422 non-null object\n",
      "BsmtFinSF2       1460 non-null int64\n",
      "BsmtUnfSF        1460 non-null int64\n",
      "TotalBsmtSF      1460 non-null int64\n",
      "Heating          1460 non-null object\n",
      "HeatingQC        1460 non-null object\n",
      "CentralAir       1460 non-null object\n",
      "Electrical       1459 non-null object\n",
      "1stFlrSF         1460 non-null int64\n",
      "2ndFlrSF         1460 non-null int64\n",
      "LowQualFinSF     1460 non-null int64\n",
      "GrLivArea        1460 non-null int64\n",
      "BsmtFullBath     1460 non-null int64\n",
      "BsmtHalfBath     1460 non-null int64\n",
      "FullBath         1460 non-null int64\n",
      "HalfBath         1460 non-null int64\n",
      "BedroomAbvGr     1460 non-null int64\n",
      "KitchenAbvGr     1460 non-null int64\n",
      "KitchenQual      1460 non-null object\n",
      "TotRmsAbvGrd     1460 non-null int64\n",
      "Functional       1460 non-null object\n",
      "Fireplaces       1460 non-null int64\n",
      "FireplaceQu      770 non-null object\n",
      "GarageType       1379 non-null object\n",
      "GarageYrBlt      1379 non-null float64\n",
      "GarageFinish     1379 non-null object\n",
      "GarageCars       1460 non-null int64\n",
      "GarageArea       1460 non-null int64\n",
      "GarageQual       1379 non-null object\n",
      "GarageCond       1379 non-null object\n",
      "PavedDrive       1460 non-null object\n",
      "WoodDeckSF       1460 non-null int64\n",
      "OpenPorchSF      1460 non-null int64\n",
      "EnclosedPorch    1460 non-null int64\n",
      "3SsnPorch        1460 non-null int64\n",
      "ScreenPorch      1460 non-null int64\n",
      "PoolArea         1460 non-null int64\n",
      "PoolQC           7 non-null object\n",
      "Fence            281 non-null object\n",
      "MiscFeature      54 non-null object\n",
      "MiscVal          1460 non-null int64\n",
      "MoSold           1460 non-null int64\n",
      "YrSold           1460 non-null int64\n",
      "SaleType         1460 non-null object\n",
      "SaleCondition    1460 non-null object\n",
      "SalePrice        1460 non-null int64\n",
      "dtypes: float64(3), int64(35), object(43)\n",
      "memory usage: 924.0+ KB\n"
     ]
    }
   ],
   "source": [
    "# First look at the data\n",
    "house.info()x"
   ]
  },
  {
   "cell_type": "code",
   "execution_count": 4,
   "metadata": {},
   "outputs": [
    {
     "data": {
      "text/plain": [
       "Index([u'Id', u'MSSubClass', u'MSZoning', u'LotFrontage', u'LotArea',\n",
       "       u'Street', u'Alley', u'LotShape', u'LandContour', u'Utilities',\n",
       "       u'LotConfig', u'LandSlope', u'Neighborhood', u'Condition1',\n",
       "       u'Condition2', u'BldgType', u'HouseStyle', u'OverallQual',\n",
       "       u'OverallCond', u'YearBuilt', u'YearRemodAdd', u'RoofStyle',\n",
       "       u'RoofMatl', u'Exterior1st', u'Exterior2nd', u'MasVnrType',\n",
       "       u'MasVnrArea', u'ExterQual', u'ExterCond', u'Foundation', u'BsmtQual',\n",
       "       u'BsmtCond', u'BsmtExposure', u'BsmtFinType1', u'BsmtFinSF1',\n",
       "       u'BsmtFinType2', u'BsmtFinSF2', u'BsmtUnfSF', u'TotalBsmtSF',\n",
       "       u'Heating', u'HeatingQC', u'CentralAir', u'Electrical', u'1stFlrSF',\n",
       "       u'2ndFlrSF', u'LowQualFinSF', u'GrLivArea', u'BsmtFullBath',\n",
       "       u'BsmtHalfBath', u'FullBath', u'HalfBath', u'BedroomAbvGr',\n",
       "       u'KitchenAbvGr', u'KitchenQual', u'TotRmsAbvGrd', u'Functional',\n",
       "       u'Fireplaces', u'FireplaceQu', u'GarageType', u'GarageYrBlt',\n",
       "       u'GarageFinish', u'GarageCars', u'GarageArea', u'GarageQual',\n",
       "       u'GarageCond', u'PavedDrive', u'WoodDeckSF', u'OpenPorchSF',\n",
       "       u'EnclosedPorch', u'3SsnPorch', u'ScreenPorch', u'PoolArea', u'PoolQC',\n",
       "       u'Fence', u'MiscFeature', u'MiscVal', u'MoSold', u'YrSold', u'SaleType',\n",
       "       u'SaleCondition', u'SalePrice'],\n",
       "      dtype='object')"
      ]
     },
     "execution_count": 4,
     "metadata": {},
     "output_type": "execute_result"
    }
   ],
   "source": [
    "# I then checked out my columns, that is alot!\n",
    "house.columns"
   ]
  },
  {
   "cell_type": "code",
   "execution_count": 5,
   "metadata": {},
   "outputs": [
    {
     "data": {
      "text/plain": [
       "<bound method Series.sum of RL         1151\n",
       "RM          218\n",
       "FV           65\n",
       "RH           16\n",
       "C (all)      10\n",
       "Name: MSZoning, dtype: int64>"
      ]
     },
     "execution_count": 5,
     "metadata": {},
     "output_type": "execute_result"
    }
   ],
   "source": [
    "# We were told to look at only residential \n",
    "# so I first checked the values of that column\n",
    "house.MSZoning.value_counts().sum"
   ]
  },
  {
   "cell_type": "code",
   "execution_count": 6,
   "metadata": {
    "collapsed": true
   },
   "outputs": [],
   "source": [
    "# I subset my dataframe\n",
    "house = house[house.MSZoning != 'C (all)']"
   ]
  },
  {
   "cell_type": "code",
   "execution_count": 7,
   "metadata": {},
   "outputs": [
    {
     "data": {
      "text/plain": [
       "<bound method Series.sum of RL    1151\n",
       "RM     218\n",
       "FV      65\n",
       "RH      16\n",
       "Name: MSZoning, dtype: int64>"
      ]
     },
     "execution_count": 7,
     "metadata": {},
     "output_type": "execute_result"
    }
   ],
   "source": [
    "# double check my work\n",
    "house.MSZoning.value_counts().sum"
   ]
  },
  {
   "cell_type": "code",
   "execution_count": 8,
   "metadata": {
    "scrolled": true
   },
   "outputs": [
    {
     "name": "stdout",
     "output_type": "stream",
     "text": [
      "RL    1151\n",
      "RM     218\n",
      "FV      65\n",
      "RH      16\n",
      "Name: MSZoning, dtype: int64\n",
      "Pave    1446\n",
      "Grvl       4\n",
      "Name: Street, dtype: int64\n",
      "Grvl    50\n",
      "Pave    39\n",
      "Name: Alley, dtype: int64\n",
      "Reg    916\n",
      "IR1    483\n",
      "IR2     41\n",
      "IR3     10\n",
      "Name: LotShape, dtype: int64\n",
      "Lvl    1305\n",
      "Bnk      62\n",
      "HLS      49\n",
      "Low      34\n",
      "Name: LandContour, dtype: int64\n",
      "AllPub    1449\n",
      "NoSeWa       1\n",
      "Name: Utilities, dtype: int64\n",
      "Inside     1044\n",
      "Corner      261\n",
      "CulDSac      94\n",
      "FR2          47\n",
      "FR3           4\n",
      "Name: LotConfig, dtype: int64\n",
      "Gtl    1375\n",
      "Mod      62\n",
      "Sev      13\n",
      "Name: LandSlope, dtype: int64\n",
      "Norm      1252\n",
      "Feedr       79\n",
      "Artery      48\n",
      "RRAn        26\n",
      "PosN        19\n",
      "RRAe        11\n",
      "PosA         8\n",
      "RRNn         5\n",
      "RRNe         2\n",
      "Name: Condition1, dtype: int64\n",
      "Norm      1436\n",
      "Feedr        5\n",
      "Artery       2\n",
      "RRNn         2\n",
      "PosN         2\n",
      "RRAn         1\n",
      "RRAe         1\n",
      "PosA         1\n",
      "Name: Condition2, dtype: int64\n",
      "1Fam      1211\n",
      "TwnhsE     114\n",
      "Duplex      52\n",
      "Twnhs       43\n",
      "2fmCon      30\n",
      "Name: BldgType, dtype: int64\n",
      "1Story    722\n",
      "2Story    444\n",
      "1.5Fin    150\n",
      "SLvl       65\n",
      "SFoyer     37\n",
      "1.5Unf     14\n",
      "2.5Unf     10\n",
      "2.5Fin      8\n",
      "Name: HouseStyle, dtype: int64\n",
      "5     396\n",
      "6     373\n",
      "7     319\n",
      "8     168\n",
      "4     111\n",
      "9      43\n",
      "10     18\n",
      "3      18\n",
      "2       2\n",
      "1       2\n",
      "Name: OverallQual, dtype: int64\n",
      "5    819\n",
      "6    250\n",
      "7    204\n",
      "8     72\n",
      "4     54\n",
      "3     24\n",
      "9     22\n",
      "2      4\n",
      "1      1\n",
      "Name: OverallCond, dtype: int64\n",
      "Gable      1135\n",
      "Hip         283\n",
      "Flat         13\n",
      "Gambrel      10\n",
      "Mansard       7\n",
      "Shed          2\n",
      "Name: RoofStyle, dtype: int64\n",
      "CompShg    1424\n",
      "Tar&Grv      11\n",
      "WdShngl       6\n",
      "WdShake       5\n",
      "Membran       1\n",
      "Metal         1\n",
      "ClyTile       1\n",
      "Roll          1\n",
      "Name: RoofMatl, dtype: int64\n",
      "None       854\n",
      "BrkFace    445\n",
      "Stone      128\n",
      "BrkCmn      15\n",
      "Name: MasVnrType, dtype: int64\n",
      "TA    899\n",
      "Gd    488\n",
      "Ex     52\n",
      "Fa     11\n",
      "Name: ExterQual, dtype: int64\n",
      "TA    1275\n",
      "Gd     145\n",
      "Fa      26\n",
      "Ex       3\n",
      "Po       1\n",
      "Name: ExterCond, dtype: int64\n",
      "PConc     647\n",
      "CBlock    627\n",
      "BrkTil    144\n",
      "Slab       24\n",
      "Stone       5\n",
      "Wood        3\n",
      "Name: Foundation, dtype: int64\n",
      "TA    639\n",
      "Gd    618\n",
      "Ex    121\n",
      "Fa     35\n",
      "Name: BsmtQual, dtype: int64\n",
      "TA    1303\n",
      "Gd      65\n",
      "Fa      43\n",
      "Po       2\n",
      "Name: BsmtCond, dtype: int64\n",
      "No    947\n",
      "Av    219\n",
      "Gd    134\n",
      "Mn    112\n",
      "Name: BsmtExposure, dtype: int64\n",
      "Unf    424\n",
      "GLQ    418\n",
      "ALQ    220\n",
      "BLQ    147\n",
      "Rec    130\n",
      "LwQ     74\n",
      "Name: BsmtFinType1, dtype: int64\n",
      "Unf    1246\n",
      "Rec      54\n",
      "LwQ      46\n",
      "BLQ      33\n",
      "ALQ      19\n",
      "GLQ      14\n",
      "Name: BsmtFinType2, dtype: int64\n",
      "GasA     1419\n",
      "GasW       17\n",
      "Grav        7\n",
      "Wall        4\n",
      "OthW        2\n",
      "Floor       1\n",
      "Name: Heating, dtype: int64\n",
      "Ex    740\n",
      "TA    421\n",
      "Gd    239\n",
      "Fa     49\n",
      "Po      1\n",
      "Name: HeatingQC, dtype: int64\n",
      "Y    1361\n",
      "N      89\n",
      "Name: CentralAir, dtype: int64\n",
      "SBrkr    1328\n",
      "FuseA      90\n",
      "FuseF      27\n",
      "FuseP       3\n",
      "Mix         1\n",
      "Name: Electrical, dtype: int64\n",
      "0    847\n",
      "1    587\n",
      "2     15\n",
      "3      1\n",
      "Name: BsmtFullBath, dtype: int64\n",
      "0    1369\n",
      "1      79\n",
      "2       2\n",
      "Name: BsmtHalfBath, dtype: int64\n",
      "2    767\n",
      "1    642\n",
      "3     33\n",
      "0      8\n",
      "Name: FullBath, dtype: int64\n",
      "0    904\n",
      "1    534\n",
      "2     12\n",
      "Name: HalfBath, dtype: int64\n",
      "3    802\n",
      "2    352\n",
      "4    212\n",
      "1     49\n",
      "5     21\n",
      "6      7\n",
      "0      6\n",
      "8      1\n",
      "Name: BedroomAbvGr, dtype: int64\n",
      "1    1383\n",
      "2      64\n",
      "3       2\n",
      "0       1\n",
      "Name: KitchenAbvGr, dtype: int64\n",
      "TA    727\n",
      "Gd    586\n",
      "Ex    100\n",
      "Fa     37\n",
      "Name: KitchenQual, dtype: int64\n",
      "6     398\n",
      "7     327\n",
      "5     275\n",
      "8     187\n",
      "4      94\n",
      "9      74\n",
      "10     47\n",
      "11     18\n",
      "3      17\n",
      "12     11\n",
      "14      1\n",
      "2       1\n",
      "Name: TotRmsAbvGrd, dtype: int64\n",
      "Typ     1350\n",
      "Min2      34\n",
      "Min1      31\n",
      "Mod       15\n",
      "Maj1      14\n",
      "Maj2       5\n",
      "Sev        1\n",
      "Name: Functional, dtype: int64\n",
      "0    681\n",
      "1    649\n",
      "2    115\n",
      "3      5\n",
      "Name: Fireplaces, dtype: int64\n",
      "Gd    379\n",
      "TA    313\n",
      "Fa     33\n",
      "Ex     24\n",
      "Po     20\n",
      "Name: FireplaceQu, dtype: int64\n",
      "Attchd     870\n",
      "Detchd     381\n",
      "BuiltIn     88\n",
      "Basment     18\n",
      "CarPort      8\n",
      "2Types       6\n",
      "Name: GarageType, dtype: int64\n",
      "Unf    600\n",
      "RFn    419\n",
      "Fin    352\n",
      "Name: GarageFinish, dtype: int64\n",
      "2    821\n",
      "1    365\n",
      "3    180\n",
      "0     79\n",
      "4      5\n",
      "Name: GarageCars, dtype: int64\n",
      "TA    1303\n",
      "Fa      48\n",
      "Gd      14\n",
      "Ex       3\n",
      "Po       3\n",
      "Name: GarageQual, dtype: int64\n",
      "TA    1319\n",
      "Fa      34\n",
      "Gd       9\n",
      "Po       7\n",
      "Ex       2\n",
      "Name: GarageCond, dtype: int64\n",
      "Y    1335\n",
      "N      85\n",
      "P      30\n",
      "Name: PavedDrive, dtype: int64\n",
      "0      1443\n",
      "738       1\n",
      "648       1\n",
      "576       1\n",
      "555       1\n",
      "519       1\n",
      "512       1\n",
      "480       1\n",
      "Name: PoolArea, dtype: int64\n",
      "Gd    3\n",
      "Ex    2\n",
      "Fa    2\n",
      "Name: PoolQC, dtype: int64\n",
      "MnPrv    155\n",
      "GdPrv     59\n",
      "GdWo      53\n",
      "MnWw      11\n",
      "Name: Fence, dtype: int64\n",
      "Shed    47\n",
      "Othr     2\n",
      "Gar2     2\n",
      "TenC     1\n",
      "Name: MiscFeature, dtype: int64\n",
      "6     252\n",
      "7     233\n",
      "5     204\n",
      "4     140\n",
      "8     121\n",
      "3     106\n",
      "10     87\n",
      "11     77\n",
      "9      62\n",
      "12     59\n",
      "1      57\n",
      "2      52\n",
      "Name: MoSold, dtype: int64\n",
      "2009    336\n",
      "2007    328\n",
      "2006    312\n",
      "2008    302\n",
      "2010    172\n",
      "Name: YrSold, dtype: int64\n",
      "WD       1261\n",
      "New       122\n",
      "COD        41\n",
      "ConLD       7\n",
      "ConLw       5\n",
      "ConLI       5\n",
      "CWD         4\n",
      "Oth         3\n",
      "Con         2\n",
      "Name: SaleType, dtype: int64\n",
      "Normal     1194\n",
      "Partial     125\n",
      "Abnorml      96\n",
      "Family       20\n",
      "Alloca       11\n",
      "AdjLand       4\n",
      "Name: SaleCondition, dtype: int64\n"
     ]
    }
   ],
   "source": [
    "# There are alot of columns to check out, first lets look \n",
    "# at the value counts for each column\n",
    "# that has less than 15 types, this catches all of the categorical data, \n",
    "# right I away I see many issues\n",
    "# I will handle these later in the notebook\n",
    "\n",
    "for i in house.columns:\n",
    "    if len(house[i].value_counts()) < 15:\n",
    "        print house[i].value_counts()"
   ]
  },
  {
   "cell_type": "code",
   "execution_count": 9,
   "metadata": {},
   "outputs": [
    {
     "data": {
      "text/html": [
       "<div>\n",
       "<style>\n",
       "    .dataframe thead tr:only-child th {\n",
       "        text-align: right;\n",
       "    }\n",
       "\n",
       "    .dataframe thead th {\n",
       "        text-align: left;\n",
       "    }\n",
       "\n",
       "    .dataframe tbody tr th {\n",
       "        vertical-align: top;\n",
       "    }\n",
       "</style>\n",
       "<table border=\"1\" class=\"dataframe\">\n",
       "  <thead>\n",
       "    <tr style=\"text-align: right;\">\n",
       "      <th></th>\n",
       "      <th>Total</th>\n",
       "      <th>Percent</th>\n",
       "    </tr>\n",
       "  </thead>\n",
       "  <tbody>\n",
       "    <tr>\n",
       "      <th>PoolQC</th>\n",
       "      <td>1443</td>\n",
       "      <td>0.995172</td>\n",
       "    </tr>\n",
       "    <tr>\n",
       "      <th>MiscFeature</th>\n",
       "      <td>1398</td>\n",
       "      <td>0.964138</td>\n",
       "    </tr>\n",
       "    <tr>\n",
       "      <th>Alley</th>\n",
       "      <td>1361</td>\n",
       "      <td>0.938621</td>\n",
       "    </tr>\n",
       "    <tr>\n",
       "      <th>Fence</th>\n",
       "      <td>1172</td>\n",
       "      <td>0.808276</td>\n",
       "    </tr>\n",
       "    <tr>\n",
       "      <th>FireplaceQu</th>\n",
       "      <td>681</td>\n",
       "      <td>0.469655</td>\n",
       "    </tr>\n",
       "    <tr>\n",
       "      <th>LotFrontage</th>\n",
       "      <td>259</td>\n",
       "      <td>0.178621</td>\n",
       "    </tr>\n",
       "    <tr>\n",
       "      <th>GarageCond</th>\n",
       "      <td>79</td>\n",
       "      <td>0.054483</td>\n",
       "    </tr>\n",
       "    <tr>\n",
       "      <th>GarageType</th>\n",
       "      <td>79</td>\n",
       "      <td>0.054483</td>\n",
       "    </tr>\n",
       "    <tr>\n",
       "      <th>GarageYrBlt</th>\n",
       "      <td>79</td>\n",
       "      <td>0.054483</td>\n",
       "    </tr>\n",
       "    <tr>\n",
       "      <th>GarageFinish</th>\n",
       "      <td>79</td>\n",
       "      <td>0.054483</td>\n",
       "    </tr>\n",
       "    <tr>\n",
       "      <th>GarageQual</th>\n",
       "      <td>79</td>\n",
       "      <td>0.054483</td>\n",
       "    </tr>\n",
       "    <tr>\n",
       "      <th>BsmtExposure</th>\n",
       "      <td>38</td>\n",
       "      <td>0.026207</td>\n",
       "    </tr>\n",
       "    <tr>\n",
       "      <th>BsmtFinType2</th>\n",
       "      <td>38</td>\n",
       "      <td>0.026207</td>\n",
       "    </tr>\n",
       "    <tr>\n",
       "      <th>BsmtFinType1</th>\n",
       "      <td>37</td>\n",
       "      <td>0.025517</td>\n",
       "    </tr>\n",
       "    <tr>\n",
       "      <th>BsmtCond</th>\n",
       "      <td>37</td>\n",
       "      <td>0.025517</td>\n",
       "    </tr>\n",
       "    <tr>\n",
       "      <th>BsmtQual</th>\n",
       "      <td>37</td>\n",
       "      <td>0.025517</td>\n",
       "    </tr>\n",
       "    <tr>\n",
       "      <th>MasVnrArea</th>\n",
       "      <td>8</td>\n",
       "      <td>0.005517</td>\n",
       "    </tr>\n",
       "    <tr>\n",
       "      <th>MasVnrType</th>\n",
       "      <td>8</td>\n",
       "      <td>0.005517</td>\n",
       "    </tr>\n",
       "    <tr>\n",
       "      <th>Electrical</th>\n",
       "      <td>1</td>\n",
       "      <td>0.000690</td>\n",
       "    </tr>\n",
       "    <tr>\n",
       "      <th>Utilities</th>\n",
       "      <td>0</td>\n",
       "      <td>0.000000</td>\n",
       "    </tr>\n",
       "  </tbody>\n",
       "</table>\n",
       "</div>"
      ],
      "text/plain": [
       "              Total   Percent\n",
       "PoolQC         1443  0.995172\n",
       "MiscFeature    1398  0.964138\n",
       "Alley          1361  0.938621\n",
       "Fence          1172  0.808276\n",
       "FireplaceQu     681  0.469655\n",
       "LotFrontage     259  0.178621\n",
       "GarageCond       79  0.054483\n",
       "GarageType       79  0.054483\n",
       "GarageYrBlt      79  0.054483\n",
       "GarageFinish     79  0.054483\n",
       "GarageQual       79  0.054483\n",
       "BsmtExposure     38  0.026207\n",
       "BsmtFinType2     38  0.026207\n",
       "BsmtFinType1     37  0.025517\n",
       "BsmtCond         37  0.025517\n",
       "BsmtQual         37  0.025517\n",
       "MasVnrArea        8  0.005517\n",
       "MasVnrType        8  0.005517\n",
       "Electrical        1  0.000690\n",
       "Utilities         0  0.000000"
      ]
     },
     "execution_count": 9,
     "metadata": {},
     "output_type": "execute_result"
    }
   ],
   "source": [
    "# This table also provides some insight to how much missing data I am dealing with\n",
    "total = house.isnull().sum().sort_values(ascending=False)\n",
    "percent = (house.isnull().sum()/house.isnull().count()).sort_values(ascending=False)\n",
    "missing_data = pd.concat([total, percent], axis=1, keys=['Total', 'Percent'])\n",
    "missing_data.head(20)"
   ]
  },
  {
   "cell_type": "code",
   "execution_count": 10,
   "metadata": {
    "collapsed": true
   },
   "outputs": [],
   "source": [
    "# I immediately get rid of these columns, they will not provide any useful information to our prediction\n",
    "\n",
    "house = house.drop('PoolQC', axis=1)\n",
    "\n",
    "house = house.drop('PoolArea', axis=1)\n",
    "\n",
    "house = house.drop('MiscFeature', axis=1)\n",
    "\n",
    "house = house.drop('MiscVal', axis=1)\n",
    "\n",
    "house = house.drop('Alley', axis=1)\n",
    "\n",
    "house = house.drop('Fence', axis=1)"
   ]
  },
  {
   "cell_type": "code",
   "execution_count": 11,
   "metadata": {
    "collapsed": true
   },
   "outputs": [],
   "source": [
    "# I also drop this one row that has no electricity, this has red flags of an outlier in home shopping\n",
    "# therefore useless to me\n",
    "\n",
    "house = house.drop(house.loc[house['Electrical'].isnull()].index)"
   ]
  },
  {
   "cell_type": "code",
   "execution_count": 12,
   "metadata": {
    "collapsed": true
   },
   "outputs": [],
   "source": [
    "# I can engineer three features, that is indoor square footage, outdoor living space square footage, \n",
    "# and total bathrooms\n",
    "\n",
    "house['TotalInSF'] = house['TotalBsmtSF'] + house['1stFlrSF'] + house['2ndFlrSF']\n",
    "house['TotalOutSF'] = house['ScreenPorch'] + house['3SsnPorch'] + house['EnclosedPorch'] + house['OpenPorchSF'] + house['GarageArea'] + house['WoodDeckSF'] \n",
    "house['totalbath'] = house['FullBath'] + house['BsmtFullBath'] + house['BsmtHalfBath'] + house['HalfBath']"
   ]
  },
  {
   "cell_type": "code",
   "execution_count": 13,
   "metadata": {
    "collapsed": true
   },
   "outputs": [],
   "source": [
    "# Now that I consolidated all of those columns, I can remove them to avoid correlation\n",
    "\n",
    "house = house.drop('TotalBsmtSF', axis=1)\n",
    "\n",
    "house = house.drop('FullBath', axis=1)\n",
    "\n",
    "house = house.drop('BsmtFullBath', axis=1)\n",
    "\n",
    "house = house.drop('BsmtHalfBath', axis=1)\n",
    "\n",
    "house = house.drop('HalfBath', axis=1)\n",
    "\n",
    "house = house.drop('1stFlrSF', axis=1)\n",
    "\n",
    "house = house.drop('2ndFlrSF', axis=1)\n",
    "\n",
    "house = house.drop('ScreenPorch', axis=1)\n",
    "\n",
    "house = house.drop('3SsnPorch', axis=1)\n",
    "\n",
    "house = house.drop('EnclosedPorch', axis=1)\n",
    "\n",
    "house = house.drop('WoodDeckSF', axis=1)\n",
    "\n",
    "house = house.drop('OpenPorchSF', axis=1)"
   ]
  },
  {
   "cell_type": "code",
   "execution_count": 14,
   "metadata": {
    "scrolled": true
   },
   "outputs": [
    {
     "data": {
      "text/plain": [
       "count      1449.000000\n",
       "mean     181664.710835\n",
       "std       79202.946344\n",
       "min       37900.000000\n",
       "25%      130000.000000\n",
       "50%      163900.000000\n",
       "75%      214000.000000\n",
       "max      755000.000000\n",
       "Name: SalePrice, dtype: float64"
      ]
     },
     "execution_count": 14,
     "metadata": {},
     "output_type": "execute_result"
    }
   ],
   "source": [
    "# That seemed harmless, lets take a break from our potential features and look at our target\n",
    "house.SalePrice.describe()"
   ]
  },
  {
   "cell_type": "code",
   "execution_count": 15,
   "metadata": {},
   "outputs": [
    {
     "data": {
      "image/png": "[encoded data removed]",
      "text/plain": [
       "<matplotlib.figure.Figure at 0x104509490>"
      ]
     },
     "metadata": {
      "image/png": {
       "height": 492,
       "width": 789
      }
     },
     "output_type": "display_data"
    },
    {
     "name": "stdout",
     "output_type": "stream",
     "text": [
      "It is positivley skewed: 1.90548065282\n"
     ]
    }
   ],
   "source": [
    "# and the distribution, we have no negative values and it is clearly positivly skewed, which might make it a little\n",
    "# awkward for linear regression, lets take the log and see what happens\n",
    "\n",
    "plt.figure(figsize=(12,8))\n",
    "sns.distplot(house.SalePrice.values, bins=50, kde=False)\n",
    "plt.xlabel('SalePrice', fontsize=24)\n",
    "plt.show()\n",
    "print (\"It is positivley skewed: \" + str(sp.skew(house.SalePrice)))"
   ]
  },
  {
   "cell_type": "code",
   "execution_count": 16,
   "metadata": {},
   "outputs": [
    {
     "data": {
      "image/png": "[encoded data removed]",
      "text/plain": [
       "<matplotlib.figure.Figure at 0x10c693850>"
      ]
     },
     "metadata": {
      "image/png": {
       "height": 492,
       "width": 789
      }
     },
     "output_type": "display_data"
    }
   ],
   "source": [
    "# that looks pretty, and much nicer for our regression, this might be useful to think about\n",
    "# in the future...\n",
    "\n",
    "plt.figure(figsize=(12,8))\n",
    "sns.distplot(np.log(house.SalePrice.values), bins=50, kde=False)\n",
    "plt.xlabel('SalePrice', fontsize=24)\n",
    "plt.show()"
   ]
  },
  {
   "cell_type": "code",
   "execution_count": 69,
   "metadata": {
    "collapsed": true
   },
   "outputs": [],
   "source": [
    "# # Now that I know my target is clean and nice looking, back to feature selection\n",
    "# # lets look at a correlation heat map, this is some code I found to sort my correlations and let me deal with\n",
    "# # the number of columns appropriatly\n",
    "\n"
   ]
  },
  {
   "cell_type": "code",
   "execution_count": 18,
   "metadata": {
    "collapsed": true
   },
   "outputs": [],
   "source": [
    "# TotalIn and Totalout are doing what we want above ground living area is also highly correlated, lets drop total\n",
    "# rooms above ground in order to keep Above ground living area, but above ground living are is less of a\n",
    "# predictor than our total inside square feet feature so lets keep ours\n",
    "\n",
    "house = house.drop('TotRmsAbvGrd', axis=1)\n",
    "\n",
    "house = house.drop('GrLivArea', axis=1)"
   ]
  },
  {
   "cell_type": "code",
   "execution_count": 19,
   "metadata": {
    "scrolled": true
   },
   "outputs": [
    {
     "data": {
      "image/png": "[encoded data removed]",
      "text/plain": [
       "<matplotlib.figure.Figure at 0x10fddc6d0>"
      ]
     },
     "metadata": {
      "image/png": {
       "height": 267,
       "width": 450
      }
     },
     "output_type": "display_data"
    }
   ],
   "source": [
    "# lets double check our feature, since this has such a high correlation.\n",
    "# The two values that have high square footage but a low sale price are definily outliers\n",
    "# I think these properties will also address our 1 property with no sewage or water\n",
    "\n",
    "var = 'TotalInSF'\n",
    "data = pd.concat([house['SalePrice'], house[var]], axis=1)\n",
    "data.plot.scatter(x=var, y='SalePrice', ylim=(0,800000));"
   ]
  },
  {
   "cell_type": "code",
   "execution_count": 20,
   "metadata": {
    "collapsed": true
   },
   "outputs": [],
   "source": [
    "house = house.drop(house[house['TotalInSF'] > 7800].index)\n"
   ]
  },
  {
   "cell_type": "code",
   "execution_count": 21,
   "metadata": {},
   "outputs": [
    {
     "data": {
      "image/png": "[encoded data removed]",
      "text/plain": [
       "<matplotlib.figure.Figure at 0x11426e690>"
      ]
     },
     "metadata": {
      "image/png": {
       "height": 267,
       "width": 446
      }
     },
     "output_type": "display_data"
    }
   ],
   "source": [
    "var = 'TotalInSF'\n",
    "data = pd.concat([house['SalePrice'], house[var]], axis=1)\n",
    "data.plot.scatter(x=var, y='SalePrice', ylim=(0,800000));"
   ]
  },
  {
   "cell_type": "code",
   "execution_count": null,
   "metadata": {
    "collapsed": true
   },
   "outputs": [],
   "source": []
  },
  {
   "cell_type": "code",
   "execution_count": 22,
   "metadata": {},
   "outputs": [
    {
     "data": {
      "image/png": "[encoded data removed]",
      "text/plain": [
       "<matplotlib.figure.Figure at 0x10ff3c150>"
      ]
     },
     "metadata": {
      "image/png": {
       "height": 383,
       "width": 664
      }
     },
     "output_type": "display_data"
    }
   ],
   "source": [
    "plt.figure(figsize=(10,6))\n",
    "sns.distplot(np.log(house.TotalInSF.values), bins=50, kde=False)\n",
    "plt.xlabel('total inside SF', fontsize=24)\n",
    "plt.show()\n"
   ]
  },
  {
   "cell_type": "code",
   "execution_count": null,
   "metadata": {
    "collapsed": true
   },
   "outputs": [],
   "source": []
  },
  {
   "cell_type": "code",
   "execution_count": 23,
   "metadata": {
    "collapsed": true
   },
   "outputs": [],
   "source": [
    "# We are making progress on narrowing down our features,\n",
    "# Next I want to address what might seem controversial but I belive it fits my process so far.\n",
    "# I am going to drop sales that were not normal and that also gets rid of NEW sales\n",
    "# which fits because we are a company for fixer uppers I am looking to build a model that predicts well\n",
    "# on more normal things and not abnormal outlier homes.\n",
    "# we are also trying to predict the sale value of a home and not the type of contracts involved"
   ]
  },
  {
   "cell_type": "code",
   "execution_count": 24,
   "metadata": {},
   "outputs": [
    {
     "data": {
      "text/plain": [
       "WD       1260\n",
       "New       120\n",
       "COD        41\n",
       "ConLD       7\n",
       "ConLw       5\n",
       "ConLI       5\n",
       "CWD         4\n",
       "Oth         3\n",
       "Con         2\n",
       "Name: SaleType, dtype: int64"
      ]
     },
     "execution_count": 24,
     "metadata": {},
     "output_type": "execute_result"
    }
   ],
   "source": [
    "house.SaleType.value_counts()"
   ]
  },
  {
   "cell_type": "code",
   "execution_count": 25,
   "metadata": {},
   "outputs": [
    {
     "data": {
      "text/plain": [
       "Normal     1193\n",
       "Partial     123\n",
       "Abnorml      96\n",
       "Family       20\n",
       "Alloca       11\n",
       "AdjLand       4\n",
       "Name: SaleCondition, dtype: int64"
      ]
     },
     "execution_count": 25,
     "metadata": {},
     "output_type": "execute_result"
    }
   ],
   "source": [
    "house.SaleCondition.value_counts()"
   ]
  },
  {
   "cell_type": "code",
   "execution_count": 26,
   "metadata": {
    "collapsed": true
   },
   "outputs": [],
   "source": [
    "house = house[house.SaleCondition == 'Normal']"
   ]
  },
  {
   "cell_type": "code",
   "execution_count": 27,
   "metadata": {},
   "outputs": [
    {
     "data": {
      "text/plain": [
       "Normal    1193\n",
       "Name: SaleCondition, dtype: int64"
      ]
     },
     "execution_count": 27,
     "metadata": {},
     "output_type": "execute_result"
    }
   ],
   "source": [
    "house.SaleCondition.value_counts()"
   ]
  },
  {
   "cell_type": "code",
   "execution_count": 28,
   "metadata": {},
   "outputs": [
    {
     "data": {
      "text/plain": [
       "WD       1157\n",
       "COD        18\n",
       "ConLw       5\n",
       "ConLD       5\n",
       "ConLI       4\n",
       "Con         2\n",
       "CWD         2\n",
       "Name: SaleType, dtype: int64"
      ]
     },
     "execution_count": 28,
     "metadata": {},
     "output_type": "execute_result"
    }
   ],
   "source": [
    "house.SaleType.value_counts()"
   ]
  },
  {
   "cell_type": "code",
   "execution_count": 29,
   "metadata": {
    "collapsed": true
   },
   "outputs": [],
   "source": [
    "# since all my sales are the same I can drop this column\n",
    "\n",
    "#house = house.drop('SaleCondition', axis=1)"
   ]
  },
  {
   "cell_type": "code",
   "execution_count": 30,
   "metadata": {
    "collapsed": true
   },
   "outputs": [],
   "source": [
    "# \n",
    "house = house.drop('SaleType', axis=1)"
   ]
  },
  {
   "cell_type": "code",
   "execution_count": 31,
   "metadata": {
    "collapsed": true
   },
   "outputs": [],
   "source": [
    "# I am sacrificing GarageCars for GarageArea since area had a stronger relationship, once again\n",
    "# all of this narrowing down will make my final model easier to understand and to see what effects quality \n",
    "# and condition will have\n",
    "\n",
    "house = house.drop('GarageCars', axis=1)"
   ]
  },
  {
   "cell_type": "code",
   "execution_count": 32,
   "metadata": {
    "collapsed": true
   },
   "outputs": [],
   "source": [
    "# and of course Id\n",
    "house = house.drop('Id', axis=1)"
   ]
  },
  {
   "cell_type": "code",
   "execution_count": 33,
   "metadata": {
    "collapsed": true
   },
   "outputs": [],
   "source": [
    "# Going deeper into my categorical data, these are categories that had strong enough representation\n",
    "# but I intuitivley thought I could turn these things into yes or no's since thats what I believe\n",
    "# the consumer will do, for example, either you have a fireplace or you don't.\n",
    "\n",
    "house['Street'] = house.Street.map(lambda x: 1 if x == \"Pave\" else 0)\n",
    "\n",
    "house['LandSlope'] = house.LandSlope.map(lambda x: 1 if x == \"Gtl\" else 0)\n",
    "\n",
    "house['CentralAir'] = house.CentralAir.map(lambda x: 1 if x == \"Y\" else 0)\n",
    "\n",
    "house['PavedDrive'] = house.PavedDrive.map(lambda x: 1 if x == \"Y\" else 0)\n",
    "\n",
    "house['Fireplaces'] = house.Fireplaces.map(lambda x: 1 if x > 1 else 0)\n",
    "\n",
    "house['Heating'] = house.Heating.map(lambda x: 1 if x == 'GasA' else 0)\n",
    "\n",
    "house['Functional'] = house.Functional.map(lambda x: 1 if x == 'Typ' else 0)\n",
    "\n",
    "house['Condition1'] = house.Condition1.map(lambda x: 1 if x == 'Norm' else 0)\n",
    "\n",
    "house['Condition2'] = house.Condition2.map(lambda x: 1 if x == 'Norm' else 0)\n",
    "\n",
    "house['Electrical'] = house.Electrical.map(lambda x: 1 if x == 'SBrkr' else 0)\n",
    "\n",
    "house['LandContour'] = house.LandContour.map(lambda x: 1 if x == 'Lvl' else 0)\n",
    "\n",
    "house['LotShape'] = house.LotShape.map(lambda x: 1 if x == 'Reg' else 0)\n",
    "\n",
    "house['LotFrontage'] = house.LotFrontage.map(lambda x: x if x > 0 else 0)\n",
    "#street frontage I used the mean\n",
    "house['LotFrontage'] = house.LotFrontage.map(lambda x: np.mean(house.LotFrontage) if x == 0 else x)"
   ]
  },
  {
   "cell_type": "code",
   "execution_count": 34,
   "metadata": {
    "collapsed": true
   },
   "outputs": [],
   "source": [
    "# Now we will go into dummyland, and explore all the categories i deemed worthy of getting dummies"
   ]
  },
  {
   "cell_type": "code",
   "execution_count": 35,
   "metadata": {
    "collapsed": true
   },
   "outputs": [],
   "source": [
    "dummyhood = pd.get_dummies(house['Neighborhood'])\n",
    "dummyhood.drop('Veenker', axis=1, inplace=True)\n",
    "house = pd.concat([house, dummyhood], axis=1)\n",
    "\n",
    "dummybldg = pd.get_dummies(house['BldgType'])\n",
    "dummybldg.drop('2fmCon', axis=1, inplace=True)\n",
    "house = pd.concat([house, dummybldg], axis=1)\n",
    "\n",
    "dummyfound = pd.get_dummies(house['Foundation'])\n",
    "dummyfound.drop('Wood', axis=1, inplace=True)\n",
    "house = pd.concat([house, dummyfound], axis=1)\n",
    "\n",
    "dummystyle = pd.get_dummies(house['HouseStyle'])\n",
    "dummystyle.drop('2.5Fin', axis=1, inplace=True)\n",
    "house = pd.concat([house, dummystyle], axis=1)\n",
    "\n",
    "dummyconfig = pd.get_dummies(house['LotConfig'])\n",
    "dummyconfig.drop('FR3', axis=1, inplace=True)\n",
    "house = pd.concat([house, dummyconfig], axis=1)\n",
    "\n",
    "dummyzone = pd.get_dummies(house['MSZoning'])\n",
    "dummyzone.drop('RH', axis=1, inplace=True)\n",
    "house = pd.concat([house, dummyzone], axis=1)\n",
    "\n",
    "dummyex1 = pd.get_dummies(house['Exterior1st'])\n",
    "dummyex1.drop('CBlock', axis=1, inplace=True)\n",
    "house = pd.concat([house, dummyex1], axis=1)\n",
    "\n",
    "dummyex2 = pd.get_dummies(house['Exterior2nd'])\n",
    "dummyex2.drop('CBlock', axis=1, inplace=True)\n",
    "house = pd.concat([house, dummyex2], axis=1)\n",
    "\n",
    "house = house.drop('Neighborhood', axis=1)\n",
    "\n",
    "house = house.drop('Foundation', axis=1)\n",
    "\n",
    "house = house.drop('BldgType', axis=1)\n",
    "\n",
    "house = house.drop('HouseStyle', axis=1)\n",
    "\n",
    "house = house.drop('LotConfig', axis=1)\n",
    "\n",
    "house = house.drop('Exterior1st', axis=1)\n",
    "\n",
    "house = house.drop('Exterior2nd', axis=1)\n",
    "\n",
    "house = house.drop('MSZoning', axis=1)"
   ]
  },
  {
   "cell_type": "code",
   "execution_count": 36,
   "metadata": {
    "collapsed": true
   },
   "outputs": [],
   "source": [
    "# Here I am converting some categorical features to numbers\n",
    "\n",
    "house['ExterCond'] = house.ExterCond.map(lambda x: 5 if x == 'Ex' else x)\n",
    "\n",
    "house['ExterCond'] = house.ExterCond.map(lambda x: 4 if x == 'Gd' else x)\n",
    "\n",
    "house['ExterCond'] = house.ExterCond.map(lambda x: 3 if x == 'TA' else x)\n",
    "\n",
    "house['ExterCond'] = house.ExterCond.map(lambda x: 2 if x == 'Fa' else x)\n",
    "\n",
    "house['ExterCond'] = house.ExterCond.map(lambda x: 1 if x == 'Po' else x)\n",
    "\n",
    "house['GarageCond'] = house.GarageCond.map(lambda x: 5 if x == 'Ex' else x)\n",
    "\n",
    "house['GarageCond'] = house.GarageCond.map(lambda x: 4 if x == 'Gd' else x)\n",
    "\n",
    "house['GarageCond'] = house.GarageCond.map(lambda x: 3 if x == 'TA' else x)\n",
    "\n",
    "house['GarageCond'] = house.GarageCond.map(lambda x: 2 if x == 'Fa' else x)\n",
    "\n",
    "house['GarageCond'] = house.GarageCond.map(lambda x: 1 if x == 'Po' else x)\n",
    "\n",
    "house['GarageCond'] = house.GarageCond.fillna(0)\n",
    "\n",
    "house['BsmtCond'] = house.BsmtCond.map(lambda x: 5 if x == 'Ex' else x)\n",
    "\n",
    "house['BsmtCond'] = house.BsmtCond.map(lambda x: 4 if x == 'Gd' else x)\n",
    "\n",
    "house['BsmtCond'] = house.BsmtCond.map(lambda x: 3 if x == 'TA' else x)\n",
    "\n",
    "house['BsmtCond'] = house.BsmtCond.map(lambda x: 2 if x == 'Fa' else x)\n",
    "\n",
    "house['BsmtCond'] = house.BsmtCond.map(lambda x: 1 if x == 'Po' else x)\n",
    "\n",
    "house['BsmtCond'] = house.BsmtCond.fillna(0)\n",
    "\n",
    "house['KitchenQual'] = house.KitchenQual.map(lambda x: 5 if x == 'Ex' else x)\n",
    "\n",
    "house['KitchenQual'] = house.KitchenQual.map(lambda x: 4 if x == 'Gd' else x)\n",
    "\n",
    "house['KitchenQual'] = house.KitchenQual.map(lambda x: 3 if x == 'TA' else x)\n",
    "\n",
    "house['KitchenQual'] = house.KitchenQual.map(lambda x: 2 if x == 'Fa' else x)\n",
    "\n",
    "house['KitchenQual'] = house.KitchenQual.apply(lambda x: 1 if x == 'Po' else x)\n",
    "\n",
    "# feature engineering of total finished basement \n",
    "\n",
    "house['totbsmtfinsf'] = house[u'BsmtFinSF1'] + house[u'BsmtFinSF2']\n",
    "\n",
    "house['totbsmtfinsf'] = house.totbsmtfinsf.apply(lambda x: 0. if x == 0 else x)"
   ]
  },
  {
   "cell_type": "code",
   "execution_count": 37,
   "metadata": {
    "collapsed": true
   },
   "outputs": [],
   "source": [
    "house['SaleCondition'] = house.SaleCondition.map(lambda x: 1 if x == 'Normal' else x)"
   ]
  },
  {
   "cell_type": "code",
   "execution_count": 38,
   "metadata": {},
   "outputs": [
    {
     "data": {
      "text/plain": [
       "Index([u'MSSubClass', u'LotFrontage', u'LotArea', u'Street', u'LotShape',\n",
       "       u'LandContour', u'Utilities', u'LandSlope', u'Condition1',\n",
       "       u'Condition2',\n",
       "       ...\n",
       "       u'HdBoard', u'ImStucc', u'MetalSd', u'Plywood', u'Stone', u'Stucco',\n",
       "       u'VinylSd', u'Wd Sdng', u'Wd Shng', u'totbsmtfinsf'],\n",
       "      dtype='object', length=128)"
      ]
     },
     "execution_count": 38,
     "metadata": {},
     "output_type": "execute_result"
    }
   ],
   "source": [
    "house.columns"
   ]
  },
  {
   "cell_type": "code",
   "execution_count": 39,
   "metadata": {},
   "outputs": [
    {
     "data": {
      "text/plain": [
       "Index([u'PavedDrive', u'MoSold', u'YrSold', u'SaleCondition', u'SalePrice',\n",
       "       u'TotalInSF', u'TotalOutSF', u'totalbath', u'Blmngtn', u'Blueste'],\n",
       "      dtype='object')"
      ]
     },
     "execution_count": 39,
     "metadata": {},
     "output_type": "execute_result"
    }
   ],
   "source": [
    "house.columns[45:55]"
   ]
  },
  {
   "cell_type": "code",
   "execution_count": 40,
   "metadata": {
    "collapsed": true
   },
   "outputs": [],
   "source": [
    "# After sorting through my columns these are things I deemed not refurbishable without large scale \n",
    "# construction, replacing roof material and outdoor material is much more intense than \n",
    "# finishing a basement, installing central heating and air is also a large scale effortb\n",
    "\n",
    "features = house[[u'PavedDrive','SalePrice','YrSold',\n",
    "       u'totbsmtfinsf',u'BsmtCond', 'LotFrontage',u'GarageCond',\n",
    "       u'KitchenQual',u'ExterCond',u'MSSubClass', u'LotArea', u'Street',\n",
    "       u'LotShape', u'LandContour', u'LandSlope',u'Condition1', u'Condition2', \n",
    "       u'YearBuilt',u'Heating', u'Electrical',\n",
    "       u'LowQualFinSF', u'KitchenAbvGr',\n",
    "       u'Functional', u'Fireplaces',u'GarageArea', u'MoSold',\n",
    "       u'TotalInSF', u'TotalOutSF', u'Blmngtn', u'Blueste',\n",
    "       u'BrDale', u'BrkSide', u'ClearCr', u'CollgCr', u'Crawfor', u'Edwards',\n",
    "       u'Gilbert', u'IDOTRR', u'MeadowV', u'Mitchel', u'NAmes', u'NPkVill',\n",
    "       u'NWAmes', u'NoRidge', u'NridgHt', u'OldTown', u'SWISU', u'Sawyer',\n",
    "       u'SawyerW', u'Somerst', u'StoneBr', u'Timber',u'1Fam', u'Duplex', u'Twnhs', u'TwnhsE', u'BrkTil',\n",
    "       u'CBlock', u'PConc', u'Slab', u'Stone', u'1.5Fin', u'1.5Unf', u'1Story', u'2.5Unf', u'2Story',\n",
    "       u'SFoyer', u'SLvl',u'Corner', u'CulDSac', u'FR2', u'Inside', u'FV', u'RL', u'RM',\n",
    "       u'AsbShng', u'AsphShn', u'BrkComm', u'BrkFace', u'CemntBd', u'HdBoard',\n",
    "       u'ImStucc', u'MetalSd', u'Plywood', u'Stucco', u'VinylSd', u'Wd Sdng',\n",
    "       u'WdShing', u'AsbShng', u'AsphShn', u'Brk Cmn', u'BrkFace', u'CmentBd',\n",
    "       u'HdBoard', u'ImStucc', u'MetalSd', u'Plywood', u'Stone', u'Stucco',\n",
    "       u'VinylSd', u'Wd Sdng','OverallCond']]"
   ]
  },
  {
   "cell_type": "code",
   "execution_count": 41,
   "metadata": {},
   "outputs": [
    {
     "data": {
      "text/plain": [
       "124"
      ]
     },
     "execution_count": 41,
     "metadata": {},
     "output_type": "execute_result"
    }
   ],
   "source": [
    "# better but thats still alot of columns\n",
    "len(features.columns)"
   ]
  },
  {
   "cell_type": "code",
   "execution_count": 42,
   "metadata": {
    "collapsed": true
   },
   "outputs": [],
   "source": [
    "# Before we model, one last check for null values\n"
   ]
  },
  {
   "cell_type": "code",
   "execution_count": 43,
   "metadata": {
    "collapsed": true
   },
   "outputs": [],
   "source": [
    "\n",
    "\n",
    "pre10 = features[features['YrSold'] != 2010]\n",
    "test10 = features[features['YrSold'] == 2010]\n",
    "\n",
    "\n",
    "\n",
    "test10y = test10.SalePrice.values\n",
    "test10x = test10\n"
   ]
  },
  {
   "cell_type": "code",
   "execution_count": 44,
   "metadata": {
    "collapsed": true
   },
   "outputs": [],
   "source": [
    "test10x = test10x.drop('SalePrice', axis=1)"
   ]
  },
  {
   "cell_type": "code",
   "execution_count": 80,
   "metadata": {
    "collapsed": true
   },
   "outputs": [],
   "source": [
    "#set our target\n",
    "\n",
    "seperatey = pre10['SalePrice'].values\n"
   ]
  },
  {
   "cell_type": "code",
   "execution_count": 81,
   "metadata": {
    "collapsed": true
   },
   "outputs": [],
   "source": [
    "features = pre10.drop('SalePrice', axis=1)"
   ]
  },
  {
   "cell_type": "code",
   "execution_count": 82,
   "metadata": {
    "collapsed": true
   },
   "outputs": [],
   "source": [
    "X = features\n",
    "y = seperatey\n",
    "newy = np.log(y)"
   ]
  },
  {
   "cell_type": "code",
   "execution_count": 83,
   "metadata": {
    "collapsed": true
   },
   "outputs": [],
   "source": [
    "ss = StandardScaler()\n",
    "\n",
    "Xs = ss.fit_transform(X)\n",
    "Xs10 = ss.fit_transform(test10x)\n"
   ]
  },
  {
   "cell_type": "code",
   "execution_count": 84,
   "metadata": {
    "collapsed": true
   },
   "outputs": [],
   "source": [
    "# I train, test, split my data and i am using my log y since I already figured out it gave me better \n",
    "# predictions\n",
    "\n",
    "X_train, X_test, y_train, y_test = train_test_split(Xs, newy, train_size=0.7, random_state=2)"
   ]
  },
  {
   "cell_type": "code",
   "execution_count": null,
   "metadata": {
    "collapsed": true
   },
   "outputs": [],
   "source": []
  },
  {
   "cell_type": "code",
   "execution_count": 85,
   "metadata": {},
   "outputs": [
    {
     "name": "stderr",
     "output_type": "stream",
     "text": [
      ".........................................................................................................................................................................................................................................................................................................................................................................................................................................................................................................................................................................................................................................................................................................................................................................................................................................................................................................................................................................................................................................................................................................................................................................................................................................................................................................................................................................................................................................................................................................................................................................................................................................................................................................................................................................................................................................................................................................................................................................................................................................................................................................................................................................................................................................................................................................................................................................................................................................................................................................................................................................................................................................................................................................................................................................................................................................................................................................................................................................................................................................................................................................................................................................................................................................................................................................................................................................................................................................................................................................................................................................................................................................................................................................................................................................................................................................................................................................................................................................................................................................................................................................................................................................................................................................................................................................................................................................................................................................................................................................................................................................................................................................................................................................................................................................................................................................................................................................................................................................................................................................................................................................................................................................................................................................................................................................................................................................................................................................................................................................................................................................................................................................................................................................................................................................................................................................................................................................................................................................................................................................................................................................................................................................................................................................................................................................................................................................................................................................................................................................................................................................................................................................................................................................................................................................................................................................................................................................................................................................................................................................................................................................................................................................................................................................................................................................................................................................................................................................................................................................................................................................................................................................................................................................................................................................................................................................................................................................................................................................................................................................................................................................................................................................................................................................................................................................................................................................................................................................................................................................................................................................................................................................................................................................................................................................................................................................................."
     ]
    },
    {
     "name": "stderr",
     "output_type": "stream",
     "text": [
      ".................................................................................................................................................................................................................................................................................................................................................................................................................................................................................................................................................................................................................................................................................................................................................................................................................................................................................................................................................................................................................................................................................................................................................................................................................."
     ]
    },
    {
     "name": "stdout",
     "output_type": "stream",
     "text": [
      "0.00276439879489\n"
     ]
    },
    {
     "name": "stderr",
     "output_type": "stream",
     "text": [
      "....................................................................................................................................................................................................................................................................................................................................[Parallel(n_jobs=1)]: Done  10 out of  10 | elapsed:    3.6s finished\n"
     ]
    }
   ],
   "source": [
    "# I need to narrow down my features to there optimum Coefficients and remove some columns in the process so\n",
    "# I turn to lasso regularization\n",
    "\n",
    "optimal_lasso = LassoCV(n_alphas=1000, cv=10, verbose=1)\n",
    "optimal_lasso.fit(X_train, y_train)\n",
    "\n",
    "print optimal_lasso.alpha_"
   ]
  },
  {
   "cell_type": "code",
   "execution_count": 86,
   "metadata": {},
   "outputs": [
    {
     "name": "stdout",
     "output_type": "stream",
     "text": [
      "[ 0.87096073  0.76968595  0.91644896  0.85272981  0.94125885  0.90146226\n",
      "  0.87006384  0.86493295  0.77702285  0.89312409]\n",
      "0.86576902881\n",
      "0.0525484887957\n"
     ]
    }
   ],
   "source": [
    "# I fit my optimum alpha that restrains my coefficients and test on the test set!\n",
    "\n",
    "lasso = Lasso(alpha=optimal_lasso.alpha_)\n",
    "\n",
    "lasso_scores = cross_val_score(lasso, X_test, y_test, cv=10)\n",
    "\n",
    "print lasso_scores\n",
    "print np.mean(lasso_scores)\n",
    "print np.std(lasso_scores)\n"
   ]
  },
  {
   "cell_type": "markdown",
   "metadata": {},
   "source": [
    "### I use training data to tune the model and then fresh test data to score my model. A r^2 value of 0.91 means 91% of the variance was predicted by my Lasso model."
   ]
  },
  {
   "cell_type": "code",
   "execution_count": 87,
   "metadata": {},
   "outputs": [
    {
     "data": {
      "image/png": "[encoded data removed]",
      "text/plain": [
       "<matplotlib.figure.Figure at 0x114940990>"
      ]
     },
     "metadata": {
      "image/png": {
       "height": 372,
       "width": 634
      }
     },
     "output_type": "display_data"
    },
    {
     "name": "stdout",
     "output_type": "stream",
     "text": [
      "score:  0.914215240961\n"
     ]
    }
   ],
   "source": [
    "model = lasso.fit(X_train, y_train)\n",
    "\n",
    "newyy = lasso.predict(X_test)\n",
    "predictions  =  np.exp(newyy)\n",
    "score        =  model.score(Xs10, np.log(test10y))\n",
    "\n",
    "# Plot the model\n",
    "plt.figure(figsize=(9,6))\n",
    "plt.scatter(np.exp(y_test), predictions, s=30, c=['b','g'], marker='+', zorder=10)\n",
    "plt.plot([np.exp(min(y_test)),np.exp(max(y_test))],[np.exp(min(y_test)),np.exp(max(y_test))],c='r')\n",
    "plt.ylabel(\"Predicted Sale Price\")\n",
    "plt.xlabel(\"Actual Sale Price\")\n",
    "plt.show()\n",
    "\n",
    "print \"score: \", score"
   ]
  },
  {
   "cell_type": "markdown",
   "metadata": {},
   "source": [
    "### I can now look at which features my regularization algorithm gave the highest coefficients too"
   ]
  },
  {
   "cell_type": "code",
   "execution_count": 88,
   "metadata": {},
   "outputs": [
    {
     "data": {
      "text/html": [
       "<div>\n",
       "<style>\n",
       "    .dataframe thead tr:only-child th {\n",
       "        text-align: right;\n",
       "    }\n",
       "\n",
       "    .dataframe thead th {\n",
       "        text-align: left;\n",
       "    }\n",
       "\n",
       "    .dataframe tbody tr th {\n",
       "        vertical-align: top;\n",
       "    }\n",
       "</style>\n",
       "<table border=\"1\" class=\"dataframe\">\n",
       "  <thead>\n",
       "    <tr style=\"text-align: right;\">\n",
       "      <th></th>\n",
       "      <th>abs_coef</th>\n",
       "      <th>coef</th>\n",
       "      <th>variable</th>\n",
       "    </tr>\n",
       "  </thead>\n",
       "  <tbody>\n",
       "    <tr>\n",
       "      <th>25</th>\n",
       "      <td>1.201619</td>\n",
       "      <td>1.201619</td>\n",
       "      <td>TotalInSF</td>\n",
       "    </tr>\n",
       "    <tr>\n",
       "      <th>16</th>\n",
       "      <td>1.090746</td>\n",
       "      <td>1.090746</td>\n",
       "      <td>YearBuilt</td>\n",
       "    </tr>\n",
       "    <tr>\n",
       "      <th>122</th>\n",
       "      <td>1.060527</td>\n",
       "      <td>1.060527</td>\n",
       "      <td>OverallCond</td>\n",
       "    </tr>\n",
       "    <tr>\n",
       "      <th>26</th>\n",
       "      <td>1.046054</td>\n",
       "      <td>1.046054</td>\n",
       "      <td>TotalOutSF</td>\n",
       "    </tr>\n",
       "    <tr>\n",
       "      <th>6</th>\n",
       "      <td>1.037761</td>\n",
       "      <td>1.037761</td>\n",
       "      <td>KitchenQual</td>\n",
       "    </tr>\n",
       "  </tbody>\n",
       "</table>\n",
       "</div>"
      ],
      "text/plain": [
       "     abs_coef      coef     variable\n",
       "25   1.201619  1.201619    TotalInSF\n",
       "16   1.090746  1.090746    YearBuilt\n",
       "122  1.060527  1.060527  OverallCond\n",
       "26   1.046054  1.046054   TotalOutSF\n",
       "6    1.037761  1.037761  KitchenQual"
      ]
     },
     "execution_count": 88,
     "metadata": {},
     "output_type": "execute_result"
    }
   ],
   "source": [
    "lasso.fit(X_train, y_train)\n",
    "lasso_coefs = pd.DataFrame({'variable':X.columns,\n",
    "                            'coef':np.exp(lasso.coef_),\n",
    "                            'abs_coef':np.abs(np.exp(lasso.coef_))})\n",
    "\n",
    "lasso_coefs.sort_values('abs_coef', inplace=True, ascending=False)\n",
    "\n",
    "lasso_coefs.head()"
   ]
  }
 ],
 "metadata": {
  "kernelspec": {
   "display_name": "Python 2",
   "language": "python",
   "name": "python2"
  },
  "language_info": {
   "codemirror_mode": {
    "name": "ipython",
    "version": 2
   },
   "file_extension": ".py",
   "mimetype": "text/x-python",
   "name": "python",
   "nbconvert_exporter": "python",
   "pygments_lexer": "ipython2",
   "version": "2.7.13"
  }
 },
 "nbformat": 4,
 "nbformat_minor": 2
}
